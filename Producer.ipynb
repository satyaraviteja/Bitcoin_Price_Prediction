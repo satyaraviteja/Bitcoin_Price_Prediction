{
 "cells": [
  {
   "cell_type": "code",
   "execution_count": 1,
   "id": "0aa8603a",
   "metadata": {},
   "outputs": [
    {
     "name": "stdout",
     "output_type": "stream",
     "text": [
      "Requirement already satisfied: kafka-python in c:\\users\\futurense\\anaconda3\\lib\\site-packages (2.0.2)\n"
     ]
    }
   ],
   "source": [
    "! pip install kafka-python"
   ]
  },
  {
   "cell_type": "code",
   "execution_count": 2,
   "id": "89f3fd8c",
   "metadata": {},
   "outputs": [],
   "source": [
    "import requests\n",
    "import json\n",
    "import time\n",
    "from kafka import KafkaProducer"
   ]
  },
  {
   "cell_type": "code",
   "execution_count": 3,
   "id": "55a9956b",
   "metadata": {},
   "outputs": [],
   "source": [
    "#Setting up the producer configurations\n",
    "topic_name = 'CryptoPrediction2'\n",
    "producer = KafkaProducer(bootstrap_servers=['localhost:9092'], api_version=(0, 10))"
   ]
  },
  {
   "cell_type": "code",
   "execution_count": 4,
   "id": "9acfe0e0",
   "metadata": {},
   "outputs": [],
   "source": [
    "#Extracting Data from API(raw html)\n",
    "url = \"https://data.messari.io/api/v1/assets/btc/metrics\""
   ]
  },
  {
   "cell_type": "code",
   "execution_count": null,
   "id": "6c85d972",
   "metadata": {},
   "outputs": [],
   "source": [
    "while True:\n",
    "    r = requests.get(url)\n",
    "    if r.status_code == 200:\n",
    "        metrics = r.json()\n",
    "    market = metrics['data']['market_data']\n",
    "    marketString = json.dumps(market)\n",
    "    key_bytes = bytes('Metrics', encoding='utf-8')\n",
    "    value_bytes = bytes(marketString, encoding='utf-8')\n",
    "    producer.send(topic_name, key=key_bytes, value=value_bytes)\n",
    "    time.sleep(30)"
   ]
  },
  {
   "cell_type": "code",
   "execution_count": null,
   "id": "ec7217fb",
   "metadata": {},
   "outputs": [],
   "source": [
    "producer.close(10)"
   ]
  },
  {
   "cell_type": "code",
   "execution_count": null,
   "id": "058b0219",
   "metadata": {},
   "outputs": [],
   "source": []
  }
 ],
 "metadata": {
  "kernelspec": {
   "display_name": "Python 3",
   "language": "python",
   "name": "python3"
  },
  "language_info": {
   "codemirror_mode": {
    "name": "ipython",
    "version": 3
   },
   "file_extension": ".py",
   "mimetype": "text/x-python",
   "name": "python",
   "nbconvert_exporter": "python",
   "pygments_lexer": "ipython3",
   "version": "3.8.8"
  }
 },
 "nbformat": 4,
 "nbformat_minor": 5
}
