{
 "cells": [
  {
   "cell_type": "code",
   "execution_count": 1,
   "id": "e6d2a46a",
   "metadata": {},
   "outputs": [],
   "source": [
    "# Importing Libraries\n",
    "import findspark\n",
    "findspark.init()\n",
    "from pyspark.sql import SparkSession\n",
    "from pyspark.sql.functions import *\n",
    "from pyspark.sql.types import *\n",
    "import json\n",
    "from kafka import KafkaProducer\n",
    "from kafka.errors import KafkaError, KafkaTimeoutError"
   ]
  },
  {
   "cell_type": "code",
   "execution_count": 2,
   "id": "a16c87b5",
   "metadata": {},
   "outputs": [],
   "source": [
    "# Create spark session\n",
    "spark = SparkSession.builder \\\n",
    "    .config('spark.jars.packages', 'org.apache.spark:spark-sql-kafka-0-10_2.12:3.1.2') \\\n",
    "    .appName(\"Crypto Prediction\") \\\n",
    "    .getOrCreate()\n",
    "spark.sparkContext.setLogLevel(\"ERROR\")\n"
   ]
  },
  {
   "cell_type": "code",
   "execution_count": 3,
   "id": "9bb43645",
   "metadata": {},
   "outputs": [],
   "source": [
    "# Create dataframe and read data from kafka topic\n",
    "df = spark.readStream \\\n",
    "    .format(\"kafka\") \\\n",
    "    .option(\"kafka.bootstrap.servers\", \"localhost:9092\") \\\n",
    "    .option(\"subscribe\",\"CryptoPrediction2\") \\\n",
    "    .option(\"startingOffsets\",\"earliest\") \\\n",
    "    .load()"
   ]
  },
  {
   "cell_type": "code",
   "execution_count": 4,
   "id": "3cbdc447",
   "metadata": {},
   "outputs": [],
   "source": [
    "# Transfrom dataframe by filtering the selected columns and dropping the remaining columns\n",
    "df_upd = df.withColumn('value_str', df['value'].cast('string').alias('key_str')).drop('value') \\\n",
    "        .drop('key','topic','partition','offset','timestamp','timestampType')"
   ]
  },
  {
   "cell_type": "code",
   "execution_count": 6,
   "id": "5704b6c4",
   "metadata": {},
   "outputs": [
    {
     "data": {
      "text/plain": [
       "<pyspark.sql.streaming.StreamingQuery at 0x1eb36450fa0>"
      ]
     },
     "execution_count": 6,
     "metadata": {},
     "output_type": "execute_result"
    }
   ],
   "source": [
    "# writing the datatframe to Hadoop directory and keep it running until terminated \n",
    "df_upd.writeStream \\\n",
    "  .outputMode(\"append\") \\\n",
    "  .format(\"json\") \\\n",
    "  .option(\"truncate\",\"false\") \\\n",
    "  .option(\"path\", \"C:\\\\Users\\\\Futurense\\\\OneDrive\\\\Desktop\\\\CryptoPrediction\\\\Realout\") \\\n",
    "  .option(\"checkpointLocation\",\"C:\\\\Users\\\\Futurense\\\\OneDrive\\\\Desktop\\\\CryptoPrediction\\\\Realout\") \\\n",
    "  .start()"
   ]
  },
  {
   "cell_type": "code",
   "execution_count": null,
   "id": "86e42085",
   "metadata": {},
   "outputs": [],
   "source": []
  }
 ],
 "metadata": {
  "kernelspec": {
   "display_name": "Python 3",
   "language": "python",
   "name": "python3"
  },
  "language_info": {
   "codemirror_mode": {
    "name": "ipython",
    "version": 3
   },
   "file_extension": ".py",
   "mimetype": "text/x-python",
   "name": "python",
   "nbconvert_exporter": "python",
   "pygments_lexer": "ipython3",
   "version": "3.8.8"
  }
 },
 "nbformat": 4,
 "nbformat_minor": 5
}
