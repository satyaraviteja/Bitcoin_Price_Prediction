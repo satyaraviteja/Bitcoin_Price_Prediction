{
 "cells": [
  {
   "cell_type": "code",
   "execution_count": 1,
   "id": "b9c09ff0",
   "metadata": {},
   "outputs": [],
   "source": [
    "#Import Libraries\n",
    "import findspark\n",
    "findspark.init()\n",
    "import json\n",
    "from pyspark.sql import SparkSession\n",
    "from pyspark.sql.functions import *\n",
    "from pyspark.sql.functions import col\n",
    "from pyspark.sql import SQLContext"
   ]
  },
  {
   "cell_type": "code",
   "execution_count": 2,
   "id": "65d20a06",
   "metadata": {},
   "outputs": [],
   "source": [
    "# Create spark session\n",
    "spark = SparkSession.builder \\\n",
    "    .master(\"local\") \\\n",
    "    .appName(\"JSON Flatten\") \\\n",
    "    .getOrCreate()"
   ]
  },
  {
   "cell_type": "code",
   "execution_count": 3,
   "id": "460b72b6",
   "metadata": {},
   "outputs": [],
   "source": [
    "# Reading json data from Click Stream Data from Hadoop directory into dataframe \n",
    "df = spark.read.json('C:\\\\Users\\\\Futurense\\\\OneDrive\\\\Desktop\\\\CryptoPrediction\\\\resultstream.json')"
   ]
  },
  {
   "cell_type": "code",
   "execution_count": 4,
   "id": "349c2552",
   "metadata": {},
   "outputs": [
    {
     "name": "stdout",
     "output_type": "stream",
     "text": [
      "root\n",
      " |-- value_str: string (nullable = true)\n",
      "\n"
     ]
    }
   ],
   "source": [
    "# Extracting columns from json Objects in dataframe and create new dataframe with the extracted cloumns \n",
    "df.printSchema()"
   ]
  },
  {
   "cell_type": "code",
   "execution_count": 5,
   "id": "e4549bd8",
   "metadata": {},
   "outputs": [],
   "source": [
    "from pyspark.sql.types import StructType,StructField, StringType, DoubleType, LongType\n",
    "schema = StructType([ \n",
    "    StructField(\"price_usd\",DoubleType(),True), \n",
    "    StructField(\"price_btc\",LongType(),True), \n",
    "    StructField(\"price_eth\",DoubleType(),True), \n",
    "    StructField(\"volume_last_24_hours\", DoubleType(), True),\n",
    "    StructField(\"real_volume_last_24_hours\",DoubleType(),True), \n",
    "    StructField(\"volume_last_24_hours_overstatement_multiple\",DoubleType(),True), \n",
    "    StructField(\"volume_last_24_hours_overstatement_multiple\",DoubleType(),True), \n",
    "    StructField(\"percent_change_btc_last_1_hour\", LongType(), True),\n",
    "    StructField(\"percent_change_eth_last_1_hour\",DoubleType(),True), \n",
    "    StructField(\"percent_change_usd_last_24_hours\",DoubleType(),True), \n",
    "    StructField(\"percent_change_btc_last_24_hours\",LongType(),True), \n",
    "    StructField(\"percent_change_eth_last_24_hours\", DoubleType(), True),\n",
    "    StructField(\"ohlcv_last_1_hour\", StructType([\n",
    "             StructField(\"open\", DoubleType(), True),\n",
    "             StructField(\"high\", DoubleType(), True),\n",
    "             StructField(\"low\", DoubleType(), True),\n",
    "             StructField(\"close\", DoubleType(), True),\n",
    "             StructField(\"volume\", DoubleType(), True),\n",
    "             ])),\n",
    "    StructField(\"ohlcv_last_24_hour\", StructType([\n",
    "             StructField(\"open\", DoubleType(), True),\n",
    "             StructField(\"high\", DoubleType(), True),\n",
    "             StructField(\"low\", DoubleType(), True),\n",
    "             StructField(\"close\", DoubleType(), True),\n",
    "             StructField(\"volume\", DoubleType(), True),\n",
    "             ])),\n",
    "    StructField(\"last_trade_at\", StringType(), True)\n",
    "  ])"
   ]
  },
  {
   "cell_type": "code",
   "execution_count": 6,
   "id": "06b0ad7e",
   "metadata": {},
   "outputs": [
    {
     "name": "stdout",
     "output_type": "stream",
     "text": [
      "root\n",
      " |-- price_usd: double (nullable = true)\n",
      " |-- price_btc: long (nullable = true)\n",
      " |-- price_eth: double (nullable = true)\n",
      " |-- volume_last_24_hours: double (nullable = true)\n",
      " |-- real_volume_last_24_hours: double (nullable = true)\n",
      " |-- volume_last_24_hours_overstatement_multiple: double (nullable = true)\n",
      " |-- volume_last_24_hours_overstatement_multiple: double (nullable = true)\n",
      " |-- percent_change_btc_last_1_hour: long (nullable = true)\n",
      " |-- percent_change_eth_last_1_hour: double (nullable = true)\n",
      " |-- percent_change_usd_last_24_hours: double (nullable = true)\n",
      " |-- percent_change_btc_last_24_hours: long (nullable = true)\n",
      " |-- percent_change_eth_last_24_hours: double (nullable = true)\n",
      " |-- ohlcv_last_1_hour: struct (nullable = true)\n",
      " |    |-- open: double (nullable = true)\n",
      " |    |-- high: double (nullable = true)\n",
      " |    |-- low: double (nullable = true)\n",
      " |    |-- close: double (nullable = true)\n",
      " |    |-- volume: double (nullable = true)\n",
      " |-- ohlcv_last_24_hour: struct (nullable = true)\n",
      " |    |-- open: double (nullable = true)\n",
      " |    |-- high: double (nullable = true)\n",
      " |    |-- low: double (nullable = true)\n",
      " |    |-- close: double (nullable = true)\n",
      " |    |-- volume: double (nullable = true)\n",
      " |-- last_trade_at: string (nullable = true)\n",
      "\n"
     ]
    }
   ],
   "source": [
    "dfJSON = df.withColumn(\"jsonData\",from_json(col(\"value_str\"),schema)) \\\n",
    "                   .select(\"jsonData.*\")\n",
    "dfJSON.printSchema()"
   ]
  },
  {
   "cell_type": "code",
   "execution_count": 7,
   "id": "0b932614",
   "metadata": {},
   "outputs": [
    {
     "name": "stdout",
     "output_type": "stream",
     "text": [
      "+------------------+---------+--------------------+--------------------------------+--------------------+-------+-----------------+------------------+------------------+--------------------+\n",
      "|         price_usd|price_btc|volume_last_24_hours|percent_change_btc_last_24_hours|       last_trade_at|   open|             high|               low|             close|              volume|\n",
      "+------------------+---------+--------------------+--------------------------------+--------------------+-------+-----------------+------------------+------------------+--------------------+\n",
      "| 36060.49674629775|        1|5.745416053576366E13|                               0|2022-01-25T09:01:...|36181.0|36562.81427108558|36051.334920174704| 36060.12637680139| 1.624595216217537E8|\n",
      "| 36066.78458606818|        1|5.745416053576366E13|                               0|2022-01-25T09:01:...|36181.0|36562.81427108558|36051.334920174704|36065.904753391056|1.6279619180093744E8|\n",
      "| 36090.80725416168|        1|5.745416053576366E13|                               0|2022-01-25T09:01:...|36181.0|36562.81427108558|36051.334920174704|36090.631069541174| 1.638154644073901E8|\n",
      "| 36096.51524434093|        1|5.745416053576366E13|                               0|2022-01-25T09:01:...|36181.0|36562.81427108558|36051.334920174704| 36096.94861476298|  1.64106004210448E8|\n",
      "| 36105.26223505403|        1|5.745416053576366E13|                               0|2022-01-25T09:02:...|36181.0|36562.81427108558|36051.334920174704| 36104.20606501892|1.6488556172641605E8|\n",
      "|36105.473016162665|        1|5.745416053576366E13|                               0|2022-01-25T09:02:...|36181.0|36562.81427108558|36051.334920174704| 36104.34673938138|1.6494261482634535E8|\n",
      "|36093.384934679285|        1|5.745416053576366E13|                               0|2022-01-25T09:02:...|36181.0|36562.81427108558|36051.334920174704|36092.678081594146| 1.651925733136907E8|\n",
      "| 36080.79048584359|        1|5.745416053576366E13|                               0|2022-01-25T09:02:...|36181.0|36562.81427108558|36051.334920174704| 36080.39260587978| 1.657438418281443E8|\n",
      "|  36077.7897514549|        1|5.745416053576366E13|                               0|2022-01-25T09:02:...|36181.0|36562.81427108558|36051.334920174704|36077.527853638334|1.6604997125408283E8|\n",
      "| 36097.82769337819|        1|5.745416053576366E13|                               0|2022-01-25T09:02:...|36181.0|36562.81427108558|36051.334920174704| 36097.86709177862| 1.667126730111997E8|\n",
      "|36098.155295496515|        1|5.745416053576366E13|                               0|2022-01-25T09:03:...|36181.0|36562.81427108558|36051.334920174704| 36100.65830187896|1.6715961855232355E8|\n",
      "|36090.631598173386|        1|5.745416053576366E13|                               0|2022-01-25T09:03:...|36181.0|36562.81427108558|36051.334920174704| 36092.53263443487| 1.675411103753555E8|\n",
      "| 36089.37580491003|        1|5.745416053576366E13|                               0|2022-01-25T09:03:...|36181.0|36562.81427108558|36051.334920174704|36088.819752967385| 1.676735808626152E8|\n",
      "|36087.918312101996|        1|5.745416053576366E13|                               0|2022-01-25T09:03:...|36181.0|36562.81427108558|36051.334920174704| 36087.33174478453|1.6774722867242584E8|\n",
      "| 36098.50227194907|        1|5.745416053576366E13|                               0|2022-01-25T09:03:...|36181.0|36562.81427108558|36051.334920174704| 36098.25629717584|1.6795527565575957E8|\n",
      "| 36106.10026959676|        1|5.745416053576366E13|                               0|2022-01-25T09:04:...|36181.0|36562.81427108558|36051.334920174704| 36105.86726757211|1.6812851106198668E8|\n",
      "|36099.083959939555|        1|5.745416053576366E13|                               0|2022-01-25T09:04:...|36181.0|36562.81427108558|36051.334920174704| 36097.61936998296| 1.683784512761917E8|\n",
      "| 36135.23482742762|        1|5.745416053576366E13|                               0|2022-01-25T09:04:...|36181.0|36562.81427108558|36051.334920174704| 36134.09404595714|1.6951003465397128E8|\n",
      "| 36149.11879113366|        1|5.745416053576366E13|                               0|2022-01-25T09:04:...|36181.0|36562.81427108558|36051.334920174704| 36148.02014234312|1.6993605737167662E8|\n",
      "|36152.707850257786|        1|5.745416053576366E13|                               0|2022-01-25T09:04:...|36181.0|36562.81427108558|36051.334920174704| 36152.67463010739|1.7029827736006886E8|\n",
      "+------------------+---------+--------------------+--------------------------------+--------------------+-------+-----------------+------------------+------------------+--------------------+\n",
      "only showing top 20 rows\n",
      "\n"
     ]
    }
   ],
   "source": [
    "finaldf = dfJSON.select(col('price_usd'), col('price_btc'), col('volume_last_24_hours'),col('percent_change_btc_last_24_hours'), col('last_trade_at'),col('ohlcv_last_1_hour.*'))\n",
    "finaldf.show()"
   ]
  },
  {
   "cell_type": "code",
   "execution_count": 8,
   "id": "4e3fc13f",
   "metadata": {},
   "outputs": [],
   "source": [
    "finaldf.write.option(\"header\",True).csv(\"C:\\\\Users\\\\Futurense\\\\OneDrive\\\\Desktop\\\\CryptoPrediction\\\\Flatresult\")"
   ]
  },
  {
   "cell_type": "code",
   "execution_count": null,
   "id": "cd9c48b0",
   "metadata": {},
   "outputs": [],
   "source": []
  }
 ],
 "metadata": {
  "kernelspec": {
   "display_name": "Python 3",
   "language": "python",
   "name": "python3"
  },
  "language_info": {
   "codemirror_mode": {
    "name": "ipython",
    "version": 3
   },
   "file_extension": ".py",
   "mimetype": "text/x-python",
   "name": "python",
   "nbconvert_exporter": "python",
   "pygments_lexer": "ipython3",
   "version": "3.8.8"
  }
 },
 "nbformat": 4,
 "nbformat_minor": 5
}
