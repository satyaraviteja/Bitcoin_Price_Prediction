{
 "cells": [
  {
   "cell_type": "code",
   "execution_count": 1,
   "id": "182214a6",
   "metadata": {},
   "outputs": [],
   "source": [
    "#Import Libraries\n",
    "import findspark\n",
    "findspark.init()\n",
    "from pyspark.sql import SparkSession\n",
    "from pyspark.sql.functions import *\n",
    "from pyspark.sql.types import *\n",
    "from pyspark import SparkContext, SparkConf, SQLContext"
   ]
  },
  {
   "cell_type": "code",
   "execution_count": 2,
   "id": "3204a6f2",
   "metadata": {},
   "outputs": [],
   "source": [
    "# Create spark session\n",
    "spark = SparkSession.builder \\\n",
    "    .master(\"local\") \\\n",
    "    .appName(\"JSON Flatten\") \\\n",
    "    .getOrCreate()"
   ]
  },
  {
   "cell_type": "code",
   "execution_count": 3,
   "id": "9c957d58",
   "metadata": {},
   "outputs": [],
   "source": [
    "#Create a Dataframe and read data from the Bookings Data in the Hadoop Directory\n",
    "df = spark.read.option(\"header\", \"true\").csv(\"C:\\\\Users\\\\Futurense\\\\OneDrive\\\\Desktop\\\\CryptoPrediction\\\\Bitcoin_Batch.csv\",inferSchema = True)\n"
   ]
  },
  {
   "cell_type": "code",
   "execution_count": 4,
   "id": "bebf32ce",
   "metadata": {},
   "outputs": [
    {
     "name": "stdout",
     "output_type": "stream",
     "text": [
      "root\n",
      " |-- Timestamp: integer (nullable = true)\n",
      " |-- Open: double (nullable = true)\n",
      " |-- High: double (nullable = true)\n",
      " |-- Low: double (nullable = true)\n",
      " |-- Close: double (nullable = true)\n",
      " |-- Volume_(BTC): double (nullable = true)\n",
      " |-- Volume_(Currency): double (nullable = true)\n",
      " |-- Weighted_Price: double (nullable = true)\n",
      "\n"
     ]
    }
   ],
   "source": [
    "df.printSchema()"
   ]
  },
  {
   "cell_type": "code",
   "execution_count": 5,
   "id": "27c0a818",
   "metadata": {},
   "outputs": [],
   "source": [
    "#Removing the records with null values\n",
    "df_upd = df.na.drop(\"any\")"
   ]
  },
  {
   "cell_type": "code",
   "execution_count": 6,
   "id": "ed9432a5",
   "metadata": {},
   "outputs": [],
   "source": [
    "df_upd.write.option(\"header\",True).csv(\"C:\\\\Users\\\\Futurense\\\\OneDrive\\\\Desktop\\\\CryptoPrediction\\\\BatchOut\")"
   ]
  },
  {
   "cell_type": "code",
   "execution_count": 7,
   "id": "b4357311",
   "metadata": {},
   "outputs": [
    {
     "data": {
      "text/plain": [
       "3613769"
      ]
     },
     "execution_count": 7,
     "metadata": {},
     "output_type": "execute_result"
    }
   ],
   "source": [
    "df_upd.count()"
   ]
  },
  {
   "cell_type": "code",
   "execution_count": null,
   "id": "0adc3487",
   "metadata": {},
   "outputs": [],
   "source": []
  }
 ],
 "metadata": {
  "kernelspec": {
   "display_name": "Python 3",
   "language": "python",
   "name": "python3"
  },
  "language_info": {
   "codemirror_mode": {
    "name": "ipython",
    "version": 3
   },
   "file_extension": ".py",
   "mimetype": "text/x-python",
   "name": "python",
   "nbconvert_exporter": "python",
   "pygments_lexer": "ipython3",
   "version": "3.8.8"
  }
 },
 "nbformat": 4,
 "nbformat_minor": 5
}
