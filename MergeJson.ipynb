{
 "cells": [
  {
   "cell_type": "code",
   "execution_count": 10,
   "id": "9798bfd9",
   "metadata": {},
   "outputs": [],
   "source": [
    "import os\n",
    "import json\n",
    "\n",
    "result = list()\n",
    "\n",
    "path = 'C:\\\\Users\\\\Futurense\\\\OneDrive\\\\Desktop\\\\CryptoPrediction\\\\files'\n",
    "\n",
    "files = os.listdir(path)\n",
    "\n",
    "for f1 in files:\n",
    "    name = path+'\\\\'+f1\n",
    "    with open(name, 'r') as infile:\n",
    "        result.append(json.load(infile))\n",
    "\n",
    "with open('C:\\\\Users\\\\Futurense\\\\OneDrive\\\\Desktop\\\\CryptoPrediction\\\\files\\\\result.json', 'w') as output_file:\n",
    "    json.dump(result, output_file)\n",
    "\n"
   ]
  },
  {
   "cell_type": "code",
   "execution_count": null,
   "id": "dd335d9e",
   "metadata": {},
   "outputs": [],
   "source": []
  }
 ],
 "metadata": {
  "kernelspec": {
   "display_name": "Python 3",
   "language": "python",
   "name": "python3"
  },
  "language_info": {
   "codemirror_mode": {
    "name": "ipython",
    "version": 3
   },
   "file_extension": ".py",
   "mimetype": "text/x-python",
   "name": "python",
   "nbconvert_exporter": "python",
   "pygments_lexer": "ipython3",
   "version": "3.8.8"
  }
 },
 "nbformat": 4,
 "nbformat_minor": 5
}
